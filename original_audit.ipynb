{
 "cells": [
  {
   "cell_type": "code",
   "execution_count": 44,
   "id": "1a2cad9d",
   "metadata": {},
   "outputs": [],
   "source": [
    "%matplotlib inline\n",
    "import pandas as pd\n",
    "from matplotlib import pyplot as plt"
   ]
  },
  {
   "cell_type": "code",
   "execution_count": 45,
   "id": "99eb571a",
   "metadata": {},
   "outputs": [
    {
     "name": "stdout",
     "output_type": "stream",
     "text": [
      "<class 'pandas.core.frame.DataFrame'>\n",
      "RangeIndex: 127 entries, 0 to 126\n",
      "Data columns (total 28 columns):\n",
      " #   Column                  Non-Null Count  Dtype  \n",
      "---  ------                  --------------  -----  \n",
      " 0   Document Title          127 non-null    object \n",
      " 1   Authors                 120 non-null    object \n",
      " 2   Author Affiliations     120 non-null    object \n",
      " 3   Publication Title       127 non-null    object \n",
      " 4   Date Added To Xplore    127 non-null    object \n",
      " 5   Publication Year        127 non-null    int64  \n",
      " 6   Volume                  127 non-null    int64  \n",
      " 7   Issue                   127 non-null    int64  \n",
      " 8   Start Page              127 non-null    object \n",
      " 9   End Page                127 non-null    object \n",
      " 10  Abstract                120 non-null    object \n",
      " 11  ISSN                    127 non-null    object \n",
      " 12  ISBNs                   0 non-null      float64\n",
      " 13  DOI                     127 non-null    object \n",
      " 14  Funding Information     105 non-null    object \n",
      " 15  PDF Link                127 non-null    object \n",
      " 16  Author Keywords         120 non-null    object \n",
      " 17  IEEE Terms              120 non-null    object \n",
      " 18  Mesh_Terms              0 non-null      float64\n",
      " 19  Article Citation Count  11 non-null     float64\n",
      " 20  Patent Citation Count   0 non-null      float64\n",
      " 21  Reference Count         127 non-null    int64  \n",
      " 22  License                 127 non-null    object \n",
      " 23  Online Date             127 non-null    object \n",
      " 24  Issue Date              0 non-null      float64\n",
      " 25  Meeting Date            0 non-null      float64\n",
      " 26  Publisher               127 non-null    object \n",
      " 27  Document Identifier     127 non-null    object \n",
      "dtypes: float64(6), int64(4), object(18)\n",
      "memory usage: 27.9+ KB\n"
     ]
    }
   ],
   "source": [
    "data = pd.read_csv(r'data\\2025\\export2025.08.19-06.06.39.csv', encoding='utf-8')\n",
    "\n",
    "data.info()"
   ]
  },
  {
   "cell_type": "code",
   "execution_count": 46,
   "id": "7bc5ba6e",
   "metadata": {},
   "outputs": [
    {
     "name": "stdout",
     "output_type": "stream",
     "text": [
      "<class 'pandas.core.frame.DataFrame'>\n",
      "RangeIndex: 127 entries, 0 to 126\n",
      "Data columns (total 23 columns):\n",
      " #   Column                  Non-Null Count  Dtype  \n",
      "---  ------                  --------------  -----  \n",
      " 0   Document Title          127 non-null    object \n",
      " 1   Authors                 120 non-null    object \n",
      " 2   Author Affiliations     120 non-null    object \n",
      " 3   Publication Title       127 non-null    object \n",
      " 4   Date Added To Xplore    127 non-null    object \n",
      " 5   Publication Year        127 non-null    int64  \n",
      " 6   Volume                  127 non-null    int64  \n",
      " 7   Issue                   127 non-null    int64  \n",
      " 8   Start Page              127 non-null    object \n",
      " 9   End Page                127 non-null    object \n",
      " 10  Abstract                120 non-null    object \n",
      " 11  ISSN                    127 non-null    object \n",
      " 12  DOI                     127 non-null    object \n",
      " 13  Funding Information     105 non-null    object \n",
      " 14  PDF Link                127 non-null    object \n",
      " 15  Author Keywords         120 non-null    object \n",
      " 16  IEEE Terms              120 non-null    object \n",
      " 17  Article Citation Count  11 non-null     float64\n",
      " 18  Reference Count         127 non-null    int64  \n",
      " 19  License                 127 non-null    object \n",
      " 20  Online Date             127 non-null    object \n",
      " 21  Publisher               127 non-null    object \n",
      " 22  Document Identifier     127 non-null    object \n",
      "dtypes: float64(1), int64(4), object(18)\n",
      "memory usage: 22.9+ KB\n"
     ]
    }
   ],
   "source": [
    "data.dropna(how='all', axis=1, inplace=True)\n",
    "data.info()"
   ]
  },
  {
   "cell_type": "code",
   "execution_count": 47,
   "id": "67f34ca3",
   "metadata": {},
   "outputs": [
    {
     "name": "stdout",
     "output_type": "stream",
     "text": [
      "<class 'pandas.core.frame.DataFrame'>\n",
      "RangeIndex: 127 entries, 0 to 126\n",
      "Data columns (total 6 columns):\n",
      " #   Column               Non-Null Count  Dtype \n",
      "---  ------               --------------  ----- \n",
      " 0   Authors              120 non-null    object\n",
      " 1   Author Affiliations  120 non-null    object\n",
      " 2   Publication Year     127 non-null    int64 \n",
      " 3   Funding Information  105 non-null    object\n",
      " 4   Author Keywords      120 non-null    object\n",
      " 5   IEEE Terms           120 non-null    object\n",
      "dtypes: int64(1), object(5)\n",
      "memory usage: 6.1+ KB\n"
     ]
    }
   ],
   "source": [
    "data = data[['Authors', 'Author Affiliations', 'Publication Year', 'Funding Information', 'Author Keywords', 'IEEE Terms']]\n",
    "data.info()"
   ]
  },
  {
   "cell_type": "code",
   "execution_count": 48,
   "id": "feea9ea6",
   "metadata": {},
   "outputs": [
    {
     "name": "stdout",
     "output_type": "stream",
     "text": [
      "<class 'pandas.core.frame.DataFrame'>\n",
      "RangeIndex: 120 entries, 0 to 119\n",
      "Data columns (total 6 columns):\n",
      " #   Column               Non-Null Count  Dtype \n",
      "---  ------               --------------  ----- \n",
      " 0   Authors              120 non-null    object\n",
      " 1   Author Affiliations  120 non-null    object\n",
      " 2   Publication Year     120 non-null    int64 \n",
      " 3   Funding Information  105 non-null    object\n",
      " 4   Author Keywords      120 non-null    object\n",
      " 5   IEEE Terms           120 non-null    object\n",
      "dtypes: int64(1), object(5)\n",
      "memory usage: 5.8+ KB\n"
     ]
    }
   ],
   "source": [
    "data.dropna(subset=['Authors', 'Author Affiliations'], inplace=True)\n",
    "data.to_csv('august.csv', encoding='utf-8', index=False)\n",
    "data.reset_index(drop=True, inplace=True)\n",
    "data.info()"
   ]
  },
  {
   "cell_type": "code",
   "execution_count": 49,
   "id": "f73050c0",
   "metadata": {},
   "outputs": [
    {
     "data": {
      "text/html": [
       "<div>\n",
       "<style scoped>\n",
       "    .dataframe tbody tr th:only-of-type {\n",
       "        vertical-align: middle;\n",
       "    }\n",
       "\n",
       "    .dataframe tbody tr th {\n",
       "        vertical-align: top;\n",
       "    }\n",
       "\n",
       "    .dataframe thead th {\n",
       "        text-align: right;\n",
       "    }\n",
       "</style>\n",
       "<table border=\"1\" class=\"dataframe\">\n",
       "  <thead>\n",
       "    <tr style=\"text-align: right;\">\n",
       "      <th></th>\n",
       "      <th>Authors</th>\n",
       "      <th>Author Affiliations</th>\n",
       "      <th>Publication Year</th>\n",
       "      <th>Funding Information</th>\n",
       "      <th>Author Keywords</th>\n",
       "      <th>IEEE Terms</th>\n",
       "    </tr>\n",
       "  </thead>\n",
       "  <tbody>\n",
       "    <tr>\n",
       "      <th>0</th>\n",
       "      <td>E. Baldazzi; R. Cicchetti; A. Faraone; L. Foge...</td>\n",
       "      <td>Department of Information Engineering, Electro...</td>\n",
       "      <td>2025</td>\n",
       "      <td>NaN</td>\n",
       "      <td>Dielectric lens;dielectric resonator antennas ...</td>\n",
       "      <td>Lenses;Dielectrics;Permittivity;Tensors;Period...</td>\n",
       "    </tr>\n",
       "    <tr>\n",
       "      <th>1</th>\n",
       "      <td>H. -T. Chou; Y. -M. Chen; C. -Y. Lee</td>\n",
       "      <td>Graduate Institute of Communication Engineerin...</td>\n",
       "      <td>2025</td>\n",
       "      <td>National Science and Technology Council, Taiwan;</td>\n",
       "      <td>Antenna array;antenna-in-package (AiP);dual-po...</td>\n",
       "      <td>Antenna arrays;Radio frequency;Metals;Antennas...</td>\n",
       "    </tr>\n",
       "    <tr>\n",
       "      <th>2</th>\n",
       "      <td>S. P. Hehenberger; S. Caizzone; A. Yarovoy</td>\n",
       "      <td>German Aerospace Center Institute of Communica...</td>\n",
       "      <td>2025</td>\n",
       "      <td>NaN</td>\n",
       "      <td>Additive manufacturing (AM);antenna;bandgap;di...</td>\n",
       "      <td>Dielectrics;Photonic band gap;Antennas;Permitt...</td>\n",
       "    </tr>\n",
       "    <tr>\n",
       "      <th>3</th>\n",
       "      <td>Z. Liu; P. F. Hu; Y. M. Pan; K. W. Leung; S. Y...</td>\n",
       "      <td>School of Electronics and Information Technolo...</td>\n",
       "      <td>2025</td>\n",
       "      <td>Fundamental Research Funds for the Central Uni...</td>\n",
       "      <td>Dielectric resonator antenna (DRA);in-band ful...</td>\n",
       "      <td>Antenna radiation patterns;Probes;Substrates;A...</td>\n",
       "    </tr>\n",
       "    <tr>\n",
       "      <th>4</th>\n",
       "      <td>M. Arias Campo; S. Bruni; A. Lauer; M. Wleklin...</td>\n",
       "      <td>Department of Antennas and EM Modeling, IMST G...</td>\n",
       "      <td>2025</td>\n",
       "      <td>Federal Ministry of Education and Research of ...</td>\n",
       "      <td>6G;beamforming;communications;focal-planar arr...</td>\n",
       "      <td>Lenses;Feeds;Phased arrays;Prototypes;Dielectr...</td>\n",
       "    </tr>\n",
       "  </tbody>\n",
       "</table>\n",
       "</div>"
      ],
      "text/plain": [
       "                                             Authors  \\\n",
       "0  E. Baldazzi; R. Cicchetti; A. Faraone; L. Foge...   \n",
       "1               H. -T. Chou; Y. -M. Chen; C. -Y. Lee   \n",
       "2         S. P. Hehenberger; S. Caizzone; A. Yarovoy   \n",
       "3  Z. Liu; P. F. Hu; Y. M. Pan; K. W. Leung; S. Y...   \n",
       "4  M. Arias Campo; S. Bruni; A. Lauer; M. Wleklin...   \n",
       "\n",
       "                                 Author Affiliations  Publication Year  \\\n",
       "0  Department of Information Engineering, Electro...              2025   \n",
       "1  Graduate Institute of Communication Engineerin...              2025   \n",
       "2  German Aerospace Center Institute of Communica...              2025   \n",
       "3  School of Electronics and Information Technolo...              2025   \n",
       "4  Department of Antennas and EM Modeling, IMST G...              2025   \n",
       "\n",
       "                                 Funding Information  \\\n",
       "0                                                NaN   \n",
       "1  National Science and Technology Council, Taiwan;    \n",
       "2                                                NaN   \n",
       "3  Fundamental Research Funds for the Central Uni...   \n",
       "4  Federal Ministry of Education and Research of ...   \n",
       "\n",
       "                                     Author Keywords  \\\n",
       "0  Dielectric lens;dielectric resonator antennas ...   \n",
       "1  Antenna array;antenna-in-package (AiP);dual-po...   \n",
       "2  Additive manufacturing (AM);antenna;bandgap;di...   \n",
       "3  Dielectric resonator antenna (DRA);in-band ful...   \n",
       "4  6G;beamforming;communications;focal-planar arr...   \n",
       "\n",
       "                                          IEEE Terms  \n",
       "0  Lenses;Dielectrics;Permittivity;Tensors;Period...  \n",
       "1  Antenna arrays;Radio frequency;Metals;Antennas...  \n",
       "2  Dielectrics;Photonic band gap;Antennas;Permitt...  \n",
       "3  Antenna radiation patterns;Probes;Substrates;A...  \n",
       "4  Lenses;Feeds;Phased arrays;Prototypes;Dielectr...  "
      ]
     },
     "execution_count": 49,
     "metadata": {},
     "output_type": "execute_result"
    }
   ],
   "source": [
    "data.head(5)"
   ]
  },
  {
   "cell_type": "code",
   "execution_count": 50,
   "id": "82617287",
   "metadata": {},
   "outputs": [],
   "source": [
    "countries = []\n",
    "\n",
    "# with open('auth_aff.txt', 'w', encoding='utf-8') as f:\n",
    "largest = [0, 0]\n",
    "for i in range(data.shape[0]):\n",
    "    authors = data ['Authors'][i].split('; ')\n",
    "    affiliations = data['Author Affiliations'][i].split('; ')\n",
    "    largest = [max([largest[0], len(authors)]), i if largest[0] < len(authors) else largest[1]]\n",
    "    for author, aff in zip(authors, affiliations, strict=True):\n",
    "        # f.write(f'{author}: {aff}\\n')\n",
    "        countries.append(aff.split(', ')[-1])"
   ]
  },
  {
   "cell_type": "code",
   "execution_count": 53,
   "id": "860f5f65",
   "metadata": {},
   "outputs": [],
   "source": [
    "countries = pd.Series(countries, dtype=str)\n",
    "countries = countries.replace(\"Republic of Korea\", \"South Korea\")\n",
    "countries = countries.replace(\"United Arab Emirates\", \"UAE\")\n",
    "counts = countries.value_counts()\n",
    "labels = list(counts.keys())\n",
    "values = list(counts.values)"
   ]
  },
  {
   "cell_type": "code",
   "execution_count": 54,
   "id": "06c01981",
   "metadata": {},
   "outputs": [
    {
     "data": {
      "image/png": "[encoded data removed]",
      "text/plain": [
       "<Figure size 640x480 with 1 Axes>"
      ]
     },
     "metadata": {},
     "output_type": "display_data"
    }
   ],
   "source": [
    "fig, ax = plt.subplots()\n",
    "bar_cont = ax.bar(labels, values)\n",
    "ax.set(ylim=(0, 475))\n",
    "plt.xlabel('Country of Author\\'s Institution')\n",
    "plt.ylabel('Number of Authors')\n",
    "plt.title('Author Affiliations from August IEEE APS Transactions')\n",
    "plt.xticks(rotation=90)\n",
    "ax.bar_label(bar_cont)\n",
    "plt.tight_layout()\n",
    "# plt.savefig('authors_by_country.png')\n",
    "plt.show()"
   ]
  }
 ],
 "metadata": {
  "kernelspec": {
   "display_name": ".venv (3.13.5)",
   "language": "python",
   "name": "python3"
  },
  "language_info": {
   "codemirror_mode": {
    "name": "ipython",
    "version": 3
   },
   "file_extension": ".py",
   "mimetype": "text/x-python",
   "name": "python",
   "nbconvert_exporter": "python",
   "pygments_lexer": "ipython3",
   "version": "3.13.5"
  }
 },
 "nbformat": 4,
 "nbformat_minor": 5
}
